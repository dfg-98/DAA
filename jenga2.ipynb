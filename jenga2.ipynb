{
 "cells": [
  {
   "cell_type": "code",
   "execution_count": 1,
   "metadata": {},
   "outputs": [],
   "source": [
    "import numpy as np"
   ]
  },
  {
   "cell_type": "code",
   "execution_count": 17,
   "metadata": {},
   "outputs": [],
   "source": [
    "def penga(h, C, E, M):\n",
    "    \n",
    "    h_max = max(h)\n",
    "    h_min = min(h)\n",
    "    \n",
    "    \n",
    "    COSTS = [[(0, 0) for _ in range(h_max+1)] for _ in range(len(h) +1) ]\n",
    "    \n",
    "    for i in range(1, len(h) + 1):\n",
    "        for j in range(h_min, h_max + 1):\n",
    "            if j > h[i-1]:\n",
    "                c = j - h[i-1]\n",
    "                t = COSTS[i-1][j]\n",
    "                COSTS[i][j] = (t[0]+c, t[1])\n",
    "            else:\n",
    "                e = h[i-1] - j\n",
    "                t = COSTS[i-1][j]\n",
    "                COSTS[i][j] = (t[0], t[1] + e)\n",
    "\n",
    "    costos = []\n",
    "    for cost in COSTS[len(h)][h_min:]:\n",
    "        if cost[0] < cost[1]:\n",
    "            c = cost[0] *C + cost[1] * E\n",
    "            costos.append(c)\n",
    "            c = (cost[1] - cost[0]) * E + cost[0] * M\n",
    "            costos.append(c)\n",
    "        else:\n",
    "            e = cost[0] *C + cost[1] * E\n",
    "            costos.append(e)\n",
    "            e = (cost[0] - cost[1]) * C + cost[1] * M\n",
    "            costos.append(e)\n",
    "    \n",
    "    return min(costos), COSTS\n"
   ]
  },
  {
   "cell_type": "code",
   "execution_count": 22,
   "metadata": {},
   "outputs": [
    {
     "name": "stdout",
     "output_type": "stream",
     "text": [
      "(0, 13)\n",
      "(1, 9)\n",
      "(3, 6)\n",
      "(6, 4)\n",
      "(9, 2)\n",
      "(13, 1)\n",
      "(17, 0)\n",
      "[26, 26, 19, 18, 15, 12, 14, 10, 13, 11, 15, 14, 17, 17]\n"
     ]
    }
   ],
   "source": [
    "n = (3, 1, 5, 7, 2)\n",
    "C = 1\n",
    "E = 2\n",
    "M = 2\n",
    "\n",
    "cost, COSTS = penga(n, C, E, M)\n"
   ]
  },
  {
   "cell_type": "code",
   "execution_count": 20,
   "metadata": {},
   "outputs": [
    {
     "data": {
      "text/plain": [
       "(21,\n",
       " [[(0, 0), (0, 0), (0, 0), (0, 0), (0, 0), (0, 0), (0, 0), (0, 0)],\n",
       "  [(0, 0), (0, 2), (0, 1), (0, 0), (1, 0), (2, 0), (3, 0), (4, 0)],\n",
       "  [(0, 0), (0, 2), (1, 1), (2, 0), (4, 0), (6, 0), (8, 0), (10, 0)],\n",
       "  [(0, 0), (0, 6), (1, 4), (2, 2), (4, 1), (6, 0), (9, 0), (12, 0)],\n",
       "  [(0, 0), (0, 12), (1, 9), (2, 6), (4, 4), (6, 2), (9, 1), (12, 0)],\n",
       "  [(0, 0), (0, 13), (1, 9), (3, 6), (6, 4), (9, 2), (13, 1), (17, 0)]])"
      ]
     },
     "execution_count": 20,
     "metadata": {},
     "output_type": "execute_result"
    }
   ],
   "source": [
    "cost, COSTS"
   ]
  },
  {
   "cell_type": "code",
   "execution_count": 5,
   "metadata": {},
   "outputs": [],
   "source": [
    "def penga2(h, C, E, M):\n",
    "    n = len(h)\n",
    "    h_max = max(h)\n",
    "    h_min = min(h)\n",
    "    costos = [  ]\n",
    "    print(costos)\n",
    "    for i in range(h_max + 1):\n",
    "        costos[0] = 0\n",
    "        print(costos)\n",
    "    print(costos)\n",
    "    for i in range(1, n):\n",
    "        # print(costos)\n",
    "        for j in range(h_max + 1):\n",
    "            if h[i] > j:\n",
    "                costos[i][j] = costos[i-1][j] + C * (h[i] - j)\n",
    "            elif h[i] < j:\n",
    "                costos[i][j] = costos[i-1][j] + E * (j - h[i] )\n",
    "            else:\n",
    "                costos[i][j] = costos[i-1][j]\n",
    "    \n",
    "    return min(costos[n]), costos\n",
    "        \n",
    "\n"
   ]
  },
  {
   "cell_type": "code",
   "execution_count": 6,
   "metadata": {},
   "outputs": [
    {
     "name": "stdout",
     "output_type": "stream",
     "text": [
      "[[9999999, 9999999, 9999999, 9999999, 9999999, 9999999], [9999999, 9999999, 9999999, 9999999, 9999999, 9999999], [9999999, 9999999, 9999999, 9999999, 9999999, 9999999], [9999999, 9999999, 9999999, 9999999, 9999999, 9999999]]\n",
      "[[0, 9999999, 9999999, 9999999, 9999999, 9999999], [0, 9999999, 9999999, 9999999, 9999999, 9999999], [0, 9999999, 9999999, 9999999, 9999999, 9999999], [0, 9999999, 9999999, 9999999, 9999999, 9999999]]\n",
      "[[0, 9999999, 9999999, 9999999, 9999999, 9999999], [0, 9999999, 9999999, 9999999, 9999999, 9999999], [0, 9999999, 9999999, 9999999, 9999999, 9999999], [0, 9999999, 9999999, 9999999, 9999999, 9999999]]\n",
      "[[0, 9999999, 9999999, 9999999, 9999999, 9999999], [0, 9999999, 9999999, 9999999, 9999999, 9999999], [0, 9999999, 9999999, 9999999, 9999999, 9999999], [0, 9999999, 9999999, 9999999, 9999999, 9999999]]\n",
      "[[0, 9999999, 9999999, 9999999, 9999999, 9999999], [0, 9999999, 9999999, 9999999, 9999999, 9999999], [0, 9999999, 9999999, 9999999, 9999999, 9999999], [0, 9999999, 9999999, 9999999, 9999999, 9999999]]\n"
     ]
    },
    {
     "ename": "IndexError",
     "evalue": "list index out of range",
     "output_type": "error",
     "traceback": [
      "\u001b[0;31m---------------------------------------------------------------------------\u001b[0m",
      "\u001b[0;31mIndexError\u001b[0m                                Traceback (most recent call last)",
      "Cell \u001b[0;32mIn [6], line 6\u001b[0m\n\u001b[1;32m      3\u001b[0m E \u001b[39m=\u001b[39m \u001b[39m2\u001b[39m\n\u001b[1;32m      4\u001b[0m M \u001b[39m=\u001b[39m \u001b[39m5\u001b[39m\n\u001b[0;32m----> 6\u001b[0m c, costos \u001b[39m=\u001b[39m penga2(n, C, E, M)\n",
      "Cell \u001b[0;32mIn [5], line 8\u001b[0m, in \u001b[0;36mpenga2\u001b[0;34m(h, C, E, M)\u001b[0m\n\u001b[1;32m      6\u001b[0m \u001b[39mprint\u001b[39m(costos)\n\u001b[1;32m      7\u001b[0m \u001b[39mfor\u001b[39;00m i \u001b[39min\u001b[39;00m \u001b[39mrange\u001b[39m(h_max \u001b[39m+\u001b[39m \u001b[39m1\u001b[39m):\n\u001b[0;32m----> 8\u001b[0m     costos[i][\u001b[39m0\u001b[39m] \u001b[39m=\u001b[39m \u001b[39m0\u001b[39m\n\u001b[1;32m      9\u001b[0m     \u001b[39mprint\u001b[39m(costos)\n\u001b[1;32m     10\u001b[0m \u001b[39mprint\u001b[39m(costos)\n",
      "\u001b[0;31mIndexError\u001b[0m: list index out of range"
     ]
    }
   ],
   "source": [
    "n = [3, 1, 5]\n",
    "C = 3\n",
    "E = 2\n",
    "M = 5\n",
    "\n",
    "c, costos = penga2(n, C, E, M)\n"
   ]
  },
  {
   "cell_type": "code",
   "execution_count": 83,
   "metadata": {},
   "outputs": [
    {
     "data": {
      "text/plain": [
       "8"
      ]
     },
     "execution_count": 83,
     "metadata": {},
     "output_type": "execute_result"
    }
   ],
   "source": [
    "c"
   ]
  },
  {
   "cell_type": "code",
   "execution_count": 84,
   "metadata": {},
   "outputs": [
    {
     "data": {
      "text/plain": [
       "[[18, 12, 11, 10, 9, 8],\n",
       " [18, 12, 11, 10, 9, 8],\n",
       " [18, 12, 11, 10, 9, 8],\n",
       " [18, 12, 11, 10, 9, 8]]"
      ]
     },
     "execution_count": 84,
     "metadata": {},
     "output_type": "execute_result"
    }
   ],
   "source": [
    "costos"
   ]
  },
  {
   "cell_type": "code",
   "execution_count": 8,
   "metadata": {},
   "outputs": [
    {
     "data": {
      "text/plain": [
       "[[9999999, 9999999, 9999999, 9999999],\n",
       " [9999999, 9999999, 9999999, 9999999],\n",
       " [9999999, 9999999, 9999999, 9999999]]"
      ]
     },
     "execution_count": 8,
     "metadata": {},
     "output_type": "execute_result"
    }
   ],
   "source": [
    "costos = [[9999999] * (3 + 1)] * (2 + 1)\n",
    "costos"
   ]
  },
  {
   "cell_type": "code",
   "execution_count": 9,
   "metadata": {},
   "outputs": [
    {
     "data": {
      "text/plain": [
       "3"
      ]
     },
     "execution_count": 9,
     "metadata": {},
     "output_type": "execute_result"
    }
   ],
   "source": [
    "len(costos)"
   ]
  },
  {
   "cell_type": "code",
   "execution_count": 10,
   "metadata": {},
   "outputs": [
    {
     "data": {
      "text/plain": [
       "[9999999, 9999999, 9999999, 9999999]"
      ]
     },
     "execution_count": 10,
     "metadata": {},
     "output_type": "execute_result"
    }
   ],
   "source": [
    "costos[0]"
   ]
  },
  {
   "cell_type": "code",
   "execution_count": 19,
   "metadata": {},
   "outputs": [
    {
     "name": "stdout",
     "output_type": "stream",
     "text": [
      "[[1, 1, 1, 1], [1, 1, 1, 1], [1, 1, 1, 1]]\n",
      "[1, 1, 1, 1]\n",
      "[[0, 1, 1, 1], [0, 1, 1, 1], [0, 1, 1, 1]]\n",
      "[0, 1, 1, 1]\n",
      "[[0, 0, 1, 1], [0, 0, 1, 1], [0, 0, 1, 1]]\n",
      "[0, 0, 1, 1]\n",
      "[[0, 0, 0, 1], [0, 0, 0, 1], [0, 0, 0, 1]]\n",
      "[0, 0, 0, 1]\n",
      "[[0, 0, 0, 0], [0, 0, 0, 0], [0, 0, 0, 0]]\n"
     ]
    }
   ],
   "source": [
    "costos = [(1) * (3 + 1), * (2 + 1)\n",
    "print(costos)\n",
    "for i in range(4):\n",
    "    print(costos[0])\n",
    "    costos[0][i] = 0\n",
    "    print(costos) "
   ]
  },
  {
   "cell_type": "code",
   "execution_count": 20,
   "metadata": {},
   "outputs": [
    {
     "data": {
      "text/plain": [
       "True"
      ]
     },
     "execution_count": 20,
     "metadata": {},
     "output_type": "execute_result"
    }
   ],
   "source": [
    "costos[0] == costos[1\n",
    "]"
   ]
  },
  {
   "cell_type": "code",
   "execution_count": null,
   "metadata": {},
   "outputs": [],
   "source": []
  }
 ],
 "metadata": {
  "kernelspec": {
   "display_name": "Python 3",
   "language": "python",
   "name": "python3"
  },
  "language_info": {
   "codemirror_mode": {
    "name": "ipython",
    "version": 3
   },
   "file_extension": ".py",
   "mimetype": "text/x-python",
   "name": "python",
   "nbconvert_exporter": "python",
   "pygments_lexer": "ipython3",
   "version": "3.8.13"
  },
  "orig_nbformat": 4,
  "vscode": {
   "interpreter": {
    "hash": "7eecb49b6020760823aeb6099b0fa97a85912a7a83310ff952ccb68be71521aa"
   }
  }
 },
 "nbformat": 4,
 "nbformat_minor": 2
}
